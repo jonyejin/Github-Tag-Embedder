{
 "cells": [
  {
   "cell_type": "code",
   "execution_count": null,
   "metadata": {},
   "outputs": [],
   "source": []
  }
 ],
 "metadata": {
  "kernelspec": {
   "display_name": "Python 3.9.13 64-bit",
   "language": "python",
   "name": "python3"
  },
  "language_info": {
   "name": "python",
   "version": "3.9.13"
  },
  "orig_nbformat": 4,
  "vscode": {
   "interpreter": {
    "hash": "cfb99ec84e88f276f6c4b06b4ba55c10dcd85b716ad93c8fd19ad772e11b3752"
   }
  }
 },
 "nbformat": 4,
 "nbformat_minor": 2
}
