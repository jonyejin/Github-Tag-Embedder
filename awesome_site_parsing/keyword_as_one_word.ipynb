{
 "cells": [
  {
   "cell_type": "code",
   "execution_count": 1,
   "metadata": {},
   "outputs": [
    {
     "ename": "FileNotFoundError",
     "evalue": "[Errno 2] No such file or directory: 'github_crawling/tempReadME.json'",
     "output_type": "error",
     "traceback": [
      "\u001b[0;31m---------------------------------------------------------------------------\u001b[0m",
      "\u001b[0;31mFileNotFoundError\u001b[0m                         Traceback (most recent call last)",
      "\u001b[1;32m/Users/yejin/Github-Tag-Embedder/awesome_site_parsing/keyword_as_one_word.ipynb 셀 1\u001b[0m in \u001b[0;36m<cell line: 36>\u001b[0;34m()\u001b[0m\n\u001b[1;32m     <a href='vscode-notebook-cell:/Users/yejin/Github-Tag-Embedder/awesome_site_parsing/keyword_as_one_word.ipynb#W0sZmlsZQ%3D%3D?line=31'>32</a>\u001b[0m     json\u001b[39m.\u001b[39mdump(return_dict, outfile)\n\u001b[1;32m     <a href='vscode-notebook-cell:/Users/yejin/Github-Tag-Embedder/awesome_site_parsing/keyword_as_one_word.ipynb#W0sZmlsZQ%3D%3D?line=33'>34</a>\u001b[0m   \u001b[39mreturn\u001b[39;00m \n\u001b[0;32m---> <a href='vscode-notebook-cell:/Users/yejin/Github-Tag-Embedder/awesome_site_parsing/keyword_as_one_word.ipynb#W0sZmlsZQ%3D%3D?line=35'>36</a>\u001b[0m f \u001b[39m=\u001b[39m \u001b[39mopen\u001b[39;49m(\u001b[39m'\u001b[39;49m\u001b[39mgithub_crawling/tempReadME.json\u001b[39;49m\u001b[39m'\u001b[39;49m)\n\u001b[1;32m     <a href='vscode-notebook-cell:/Users/yejin/Github-Tag-Embedder/awesome_site_parsing/keyword_as_one_word.ipynb#W0sZmlsZQ%3D%3D?line=36'>37</a>\u001b[0m md \u001b[39m=\u001b[39m \u001b[39mdict\u001b[39m(json\u001b[39m.\u001b[39mload(f))\n\u001b[1;32m     <a href='vscode-notebook-cell:/Users/yejin/Github-Tag-Embedder/awesome_site_parsing/keyword_as_one_word.ipynb#W0sZmlsZQ%3D%3D?line=37'>38</a>\u001b[0m keyword \u001b[39m=\u001b[39m \u001b[39mopen\u001b[39m(\u001b[39m'\u001b[39m\u001b[39m/Users/yejin/Github-Tag-Embedder/awesome_site_parsing/keyword_shorten.json\u001b[39m\u001b[39m'\u001b[39m)\n",
      "\u001b[0;31mFileNotFoundError\u001b[0m: [Errno 2] No such file or directory: 'github_crawling/tempReadME.json'"
     ]
    }
   ],
   "source": [
    "import markdown # pip install markdown\n",
    "from bs4 import BeautifulSoup # pip install beautifulsoup4\n",
    "import json\n",
    "import re\n",
    "\n",
    "def regex_change_word_for_document_key_string(md, input_string):\n",
    "  temp = input_string\n",
    "  for (before, after) in md.items():\n",
    "    temp = re.sub(pattern=f\"\\s{before}\\s\", repl=f\" {after} \", string=temp)\n",
    "    temp = re.sub(pattern=f\"-{before}-\", repl=f\"-{after}-\", string=temp)\n",
    "    temp = re.sub(pattern=f\"-{before}\", repl=f\"-{after}\", string=temp)\n",
    "    temp = re.sub(pattern=f\"{before}-\", repl=f\"{after}-\", string=temp)\n",
    "  return temp\n",
    "\n",
    "def regex_change_word_for_document_value_string(md, input_string):\n",
    "  temp = input_string\n",
    "  for (before, after) in md.items():\n",
    "    # dash to space for body\n",
    "    k = \" \".join(after.split(\"-\"))\n",
    "    temp = re.sub(pattern=f\"\\s{before}\\s\", repl=f\" {k} \", string=temp)\n",
    "  return temp\n",
    "\n",
    "def keyword_parsing(body_json, keyword_json, write_file_name):  \n",
    "  return_dict = {}\n",
    "\n",
    "  for key, value in body_json.items():\n",
    "    k = regex_change_word_for_document_key_string(keyword_json, \" \"+ key+\" \") # 빈칸 추가해서 첫 단어도 가능하게\n",
    "    v = regex_change_word_for_document_value_string(keyword_json, \" \"+value+\" \") # 빈칸 추가해서 첫 단어도 가능하게\n",
    "    return_dict[k] = v\n",
    "\n",
    "  with open(write_file_name, \"w\") as outfile:\n",
    "    json.dump(return_dict, outfile)\n",
    "\n",
    "  return \n",
    "  \n",
    "f = open('/Users/yejin/Github-Tag-Embedder/github_crawling/tempReadME.json')\n",
    "md = dict(json.load(f))\n",
    "keyword = open('/Users/yejin/Github-Tag-Embedder/awesome_site_parsing/keyword_shorten.json')\n",
    "my_dict = dict(json.load(keyword))\n",
    "\n",
    "keyword_parsing(md, my_dict, \"221202_1626.json\")"
   ]
  }
 ],
 "metadata": {
  "kernelspec": {
   "display_name": "Python 3.9.5 ('base')",
   "language": "python",
   "name": "python3"
  },
  "language_info": {
   "codemirror_mode": {
    "name": "ipython",
    "version": 3
   },
   "file_extension": ".py",
   "mimetype": "text/x-python",
   "name": "python",
   "nbconvert_exporter": "python",
   "pygments_lexer": "ipython3",
   "version": "3.9.5"
  },
  "orig_nbformat": 4,
  "vscode": {
   "interpreter": {
    "hash": "c40fc0dabaa44856a7ea2aaace631e92d758e85cb3e5626f690455fc0714b666"
   }
  }
 },
 "nbformat": 4,
 "nbformat_minor": 2
}
