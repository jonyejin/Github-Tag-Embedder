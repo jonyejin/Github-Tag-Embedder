{
 "cells": [
  {
   "cell_type": "code",
   "execution_count": 24,
   "metadata": {},
   "outputs": [],
   "source": [
    "import markdown # pip install markdown\n",
    "from bs4 import BeautifulSoup # pip install beautifulsoup4\n",
    "import json\n",
    "import re\n",
    "\n",
    "def regex_change_word_for_document_key_string(md, input_string):\n",
    "  temp = input_string\n",
    "  for (before, after) in md.items():\n",
    "    temp = re.sub(pattern=f\"\\s{before}\\s\", repl=f\" {after} \", string=temp)\n",
    "    temp = re.sub(pattern=f\"-{before}-\", repl=f\"-{after}-\", string=temp)\n",
    "    temp = re.sub(pattern=f\"-{before}\", repl=f\"-{after}\", string=temp)\n",
    "    temp = re.sub(pattern=f\"{before}-\", repl=f\"{after}-\", string=temp)\n",
    "  return temp\n",
    "\n",
    "def regex_change_word_for_document_value_string(md, input_string):\n",
    "  temp = input_string\n",
    "  for (before, after) in md.items():\n",
    "    # dash to space for body\n",
    "    k = \" \".join(after.split(\"-\"))\n",
    "    temp = re.sub(pattern=f\"\\s{before}\\s\", repl=f\" {k} \", string=temp)\n",
    "  return temp\n",
    "\n",
    "def keyword_parsing(body_json, keyword_json, write_file_name):  \n",
    "  return_dict = {}\n",
    "\n",
    "  for key, value in body_json.items():\n",
    "    k = regex_change_word_for_document_key_string(keyword_json, \" \"+ key+\" \") # 빈칸 추가해서 첫 단어도 가능하게\n",
    "    v = regex_change_word_for_document_value_string(keyword_json, \" \"+value+\" \") # 빈칸 추가해서 첫 단어도 가능하게\n",
    "    return_dict[k] = v\n",
    "\n",
    "  with open(write_file_name, \"w\") as outfile:\n",
    "    json.dump(return_dict, outfile)\n",
    "\n",
    "  return \n",
    "  \n",
    "f = open('cleanedREADMEs.json')\n",
    "md = dict(json.load(f))\n",
    "keyword = open('/Users/yejin/Github-Tag-Embedder/awesome_site_parsing/keyword_shorten.json')\n",
    "my_dict = dict(json.load(keyword))\n",
    "\n",
    "keyword_parsing(md, my_dict, \"dict_output.json\")"
   ]
  },
  {
   "cell_type": "code",
   "execution_count": null,
   "metadata": {},
   "outputs": [],
   "source": []
  }
 ],
 "metadata": {
  "kernelspec": {
   "display_name": "Python 3.9.5 ('base')",
   "language": "python",
   "name": "python3"
  },
  "language_info": {
   "codemirror_mode": {
    "name": "ipython",
    "version": 3
   },
   "file_extension": ".py",
   "mimetype": "text/x-python",
   "name": "python",
   "nbconvert_exporter": "python",
   "pygments_lexer": "ipython3",
   "version": "3.9.5"
  },
  "orig_nbformat": 4,
  "vscode": {
   "interpreter": {
    "hash": "c40fc0dabaa44856a7ea2aaace631e92d758e85cb3e5626f690455fc0714b666"
   }
  }
 },
 "nbformat": 4,
 "nbformat_minor": 2
}
