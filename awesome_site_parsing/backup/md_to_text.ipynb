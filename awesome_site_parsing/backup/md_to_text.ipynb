{
 "cells": [
  {
   "cell_type": "code",
   "execution_count": null,
   "metadata": {},
   "outputs": [],
   "source": [
    "import markdown # pip install markdown\n",
    "from bs4 import BeautifulSoup # pip install beautifulsoup4\n",
    "import json\n",
    "\n",
    "def md_to_text(md):\n",
    "    html = markdown.markdown(md)\n",
    "    soup = BeautifulSoup(html, features='html.parser')\n",
    "    return soup.get_text()\n",
    "\n",
    "def example():\n",
    "    f = open('./../github_crawling/READMEs.json')\n",
    "    md = json.load(f)[\"data-science education machine-learning machine-learning-algorithms machinelearning machinelearning-python ml python r scikit-learn scikit-learn-python\"]\n",
    "    text = md_to_text(md)\n",
    "    print(text)\n",
    "    # Output: A B\n",
    "example()"
   ]
  }
 ],
 "metadata": {
  "kernelspec": {
   "display_name": "Python 3.9.5 ('base')",
   "language": "python",
   "name": "python3"
  },
  "language_info": {
   "name": "python",
   "version": "3.9.5"
  },
  "orig_nbformat": 4,
  "vscode": {
   "interpreter": {
    "hash": "c40fc0dabaa44856a7ea2aaace631e92d758e85cb3e5626f690455fc0714b666"
   }
  }
 },
 "nbformat": 4,
 "nbformat_minor": 2
}
