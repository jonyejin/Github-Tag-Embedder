{
 "cells": [
  {
   "cell_type": "code",
   "execution_count": null,
   "metadata": {},
   "outputs": [],
   "source": [
    "text = \"Keras: Deep Learning for humans\\nThis repository hosts the development of the Keras library.\\nRead the documentation at keras.io.\\nAbout Keras\\nKeras is a deep learning API written in Python,\\nrunning on top of the machine learning platform TensorFlow.\\nIt was developed with a focus on enabling fast experimentation.\\nBeing able to go from idea to result as fast as possible is key to doing good research.\\nKeras is:\\nSimple -- but not simplistic. Keras reduces developer cognitive load\\n    to free you to focus on the parts of the problem that really matter.\\nFlexible -- Keras adopts the principle of progressive disclosure of\\n    complexity: simple workflows should be quick and easy, while arbitrarily\\n    advanced workflows should be possible via a clear path that builds upon\\n    what you've already learned.\\nPowerful -- Keras provides industry-strength performance and\\n    scalability: it is used by organizations and companies including NASA,\\n    YouTube, and Waymo.\\nKeras & TensorFlow 2\\nTensorFlow 2 is an end-to-end, open-source machine learning platform.\\nYou can think of it as an infrastructure layer for\\ndifferentiable programming.\\nIt combines four key abilities:\\nEfficiently executing low-level tensor operations on CPU, GPU, or TPU.\\nComputing the gradient of arbitrary differentiable expressions.\\nScaling computation to many devices, such as clusters of hundreds of GPUs.\\nExporting programs (\\\"graphs\\\") to external runtimes such as servers, browsers, mobile and embedded devices.\\nKeras is the high-level API of TensorFlow 2: an approachable, highly-productive interface\\nfor solving machine learning problems,\\nwith a focus on modern deep learning. It provides essential abstractions and building blocks for developing\\nand shipping machine learning solutions with high iteration velocity.\\nKeras empowers engineers and researchers to take full advantage of the scalability\\nand cross-platform capabilities of TensorFlow 2: you can run Keras on TPU or on large clusters of GPUs,\\nand you can export your Keras models to run in the browser or on a mobile device.\\nFirst contact with Keras\\nThe core data structures of Keras are layers and models.\\nThe simplest type of model is the Sequential model, a linear stack of layers.\\nFor more complex architectures, you should use the Keras functional API,\\nwhich allows you to build arbitrary graphs of layers or write models entirely from scratch via subclassing.\\nHere is the Sequential model:\\npython\\nfrom tensorflow.keras.models import Sequential\\nmodel = Sequential()\\nStacking layers is as easy as .add():\\npython\\nfrom tensorflow.keras.layers import Dense\\nmodel.add(Dense(units=64, activation='relu'))\\nmodel.add(Dense(units=10, activation='softmax'))\\nOnce your model looks good, configure its learning process with .compile():\\npython\\nmodel.compile(loss='categorical_crossentropy',\\n              optimizer='sgd',\\n              metrics=['accuracy'])\\nIf you need to, you can further configure your optimizer. The Keras philosophy is to keep simple things simple,\\nwhile allowing the user to be fully in control when they need to (the ultimate control being the easy extensibility of the source code via subclassing).\\npython\\nmodel.compile(loss=tf.keras.losses.categorical_crossentropy,\\n              optimizer=tf.keras.optimizers.SGD(\\n                  learning_rate=0.01, momentum=0.9, nesterov=True))\\nYou can now iterate on your training data in batches:\\npython\\nx_train and y_train are Numpy arrays.\\nmodel.fit(x_train, y_train, epochs=5, batch_size=32)\\nEvaluate your test loss and metrics in one line:\\npython\\nloss_and_metrics = model.evaluate(x_test, y_test, batch_size=128)\\nOr generate predictions on new data:\\npython\\nclasses = model.predict(x_test, batch_size=128)\\nWhat you just saw is the most elementary way to use Keras.\\nHowever, Keras is also a highly-flexible framework suitable to iterate on state-of-the-art research ideas.\\nKeras follows the principle of progressive disclosure of complexity: it makes it easy to get started,\\nyet it makes it possible to handle arbitrarily advanced use cases,\\nonly requiring incremental learning at each step.\\nIn much the same way that you were able to train & evaluate a simple neural network above in a few lines,\\nyou can use Keras to quickly develop new training procedures or exotic model architectures.\\nHere's a low-level training loop example, combining Keras functionality with the TensorFlow GradientTape:\\n```python\\nimport tensorflow as tf\\nPrepare an optimizer.\\noptimizer = tf.keras.optimizers.Adam()\\nPrepare a loss function.\\nloss_fn = tf.keras.losses.kl_divergence\\nIterate over the batches of a dataset.\\nfor inputs, targets in dataset:\\n    # Open a GradientTape.\\n    with tf.GradientTape() as tape:\\n        # Forward pass.\\n        predictions = model(inputs)\\n        # Compute the loss value for this batch.\\n        loss_value = loss_fn(targets, predictions)\\nGet gradients of loss wrt the weights.\\ngradients = tape.gradient(loss_value, model.trainable_weights)\\nUpdate the weights of the model.\\noptimizer.apply_gradients(zip(gradients, model.trainable_weights))\\n```\\nFor more in-depth tutorials about Keras, you can check out:\\nIntroduction to Keras for engineers\\nIntroduction to Keras for researchers\\nDeveloper guides\\nOther learning resources\\nInstallation\\nKeras comes packaged with TensorFlow 2 as tensorflow.keras.\\nTo start using Keras, simply install TensorFlow 2.\\nRelease and compatibility\\nKeras has nightly releases (keras-nightly on PyPI)\\nand stable releases (keras on PyPI).\\nThe nightly Keras releases are usually compatible with the corresponding version\\nof the tf-nightly releases\\n(e.g. keras-nightly==2.7.0.dev2021100607 should be\\nused with tf-nightly==2.7.0.dev2021100607).\\nWe don't maintain backward compatibility for nightly releases.\\nFor stable releases, each Keras\\nversion maps to a specific stable version of TensorFlow.\\nThe table below shows the compatibility version mapping\\nbetween TensorFlow versions and Keras versions.\\nAll the release branches can be found on GitHub.\\nAll the release binaries can be found on Pypi.\\n| Keras release | Note      | Compatible Tensorflow version |\\n| -----------   | ----------- | -----------        |\\n| 2.4  | Last stable release of multi-backend Keras | < 2.5\\n| 2.5-pre| Pre-release (not formal) for standalone Keras repo | >= 2.5 < 2.6\\n| 2.6    | First formal release of standalone Keras.  | >= 2.6 < 2.7\\n| 2.7    | (Upcoming release) | >= 2.7 < 2.8\\n| nightly|                                            | tf-nightly\\nSupport\\nYou can ask questions and join the development discussion:\\nIn the TensorFlow forum.\\nOn the Keras Google group.\\nOpening an issue\\nYou can also post bug reports and feature requests (only)\\nin GitHub issues.\\nOpening a PR\\nWe welcome contributions! Before opening a PR, please read\\nour contributor guide,\\nand the API design guideline.\"\n",
    "\n",
    "articles = [\"a\", \"an\", \"the\", \"and\", \"is\", \"or\", \"in\", \"only\", \"for\", \"to\", \"be\", \"it\", \"as\", \"of\"]\n",
    "\n",
    "import re\n",
    "def filtering_articles(w):\n",
    "    if w not in articles:\n",
    "        return w\n",
    "def cleaning(text):\n",
    "    text = text.lower()    \n",
    "    # remove all letters not alphabet\n",
    "    # 주의! 영어~특수문자~영어를 띄어쓰기로 바꾼다.\n",
    "    text = re.sub('([^a-zA-Z])+', repl=' ', string=text)\n",
    "    # remove keywords\n",
    "    text = \" \".join(filter(filtering_articles, text.split()))\n",
    "    return text\n",
    "print(cleaning(text))\n"
   ]
  },
  {
   "cell_type": "code",
   "execution_count": null,
   "metadata": {},
   "outputs": [],
   "source": [
    "import markdown # pip install markdown\n",
    "from bs4 import BeautifulSoup # pip install beautifulsoup4\n",
    "import json\n",
    "\n",
    "def data_cleaning():\n",
    "    f = open('./../github_crawling/READMEs.json')\n",
    "    md = dict(json.load(f))\n",
    "    for key, value in md.items():\n",
    "        print(cleaning(value))\n",
    "\n",
    "data_cleaning()\n",
    "      "
   ]
  }
 ],
 "metadata": {
  "kernelspec": {
   "display_name": "Python 3.9.13 64-bit",
   "language": "python",
   "name": "python3"
  },
  "language_info": {
   "codemirror_mode": {
    "name": "ipython",
    "version": 3
   },
   "file_extension": ".py",
   "mimetype": "text/x-python",
   "name": "python",
   "nbconvert_exporter": "python",
   "pygments_lexer": "ipython3",
   "version": "3.9.13"
  },
  "orig_nbformat": 4,
  "vscode": {
   "interpreter": {
    "hash": "cfb99ec84e88f276f6c4b06b4ba55c10dcd85b716ad93c8fd19ad772e11b3752"
   }
  }
 },
 "nbformat": 4,
 "nbformat_minor": 2
}
