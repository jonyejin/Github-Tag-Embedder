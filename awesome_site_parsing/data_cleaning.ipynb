{
 "cells": [
  {
   "cell_type": "code",
   "execution_count": 2,
   "metadata": {},
   "outputs": [],
   "source": [
    "import re\n",
    "def _filtering_articles(w):\n",
    "    articles = [\"a\", \"an\", \"the\", \"and\", \"is\", \"or\", \"in\", \"only\", \"for\", \"to\", \"be\", \"it\", \"as\", \"of\"]\n",
    "    if w not in articles:\n",
    "        return w\n",
    "def cleaning(text):\n",
    "    \"\"\"_summary_\n",
    "\n",
    "    Args:\n",
    "        text (_type_): _description_\n",
    "\n",
    "    Returns:\n",
    "        _type_: _description_\n",
    "    \"\"\"\n",
    "    text = text.lower()    \n",
    "    # remove all letters not alphabet\n",
    "    # 주의! 영어~특수문자~영어를 띄어쓰기로 바꾼다.\n",
    "    text = re.sub('([^a-zA-Z])+', repl=' ', string=text)\n",
    "    # remove keywords\n",
    "    text = \" \".join(filter(_filtering_articles, text.split()))\n",
    "    return text\n"
   ]
  },
  {
   "cell_type": "code",
   "execution_count": 3,
   "metadata": {},
   "outputs": [],
   "source": [
    "import markdown # pip install markdown\n",
    "from bs4 import BeautifulSoup # pip install beautifulsoup4\n",
    "import json\n",
    "\n",
    "def data_cleaning():\n",
    "    f = open('./../github_crawling/READMEs.json')\n",
    "    md = dict(json.load(f))\n",
    "    wr = {}\n",
    "    for key, value in md.items():\n",
    "        wr[cleaning(key)] = cleaning(value)\n",
    "    with open(\"cleanedREADMEs.json\", \"w\") as outfile:\n",
    "        json.dump(wr, outfile)\n",
    "\n",
    "\n",
    "data_cleaning()\n",
    "      "
   ]
  }
 ],
 "metadata": {
  "kernelspec": {
   "display_name": "Python 3.9.5 ('base')",
   "language": "python",
   "name": "python3"
  },
  "language_info": {
   "codemirror_mode": {
    "name": "ipython",
    "version": 3
   },
   "file_extension": ".py",
   "mimetype": "text/x-python",
   "name": "python",
   "nbconvert_exporter": "python",
   "pygments_lexer": "ipython3",
   "version": "3.9.5"
  },
  "orig_nbformat": 4,
  "vscode": {
   "interpreter": {
    "hash": "c40fc0dabaa44856a7ea2aaace631e92d758e85cb3e5626f690455fc0714b666"
   }
  }
 },
 "nbformat": 4,
 "nbformat_minor": 2
}
