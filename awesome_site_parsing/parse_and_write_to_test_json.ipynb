{
 "cells": [
  {
   "cell_type": "code",
   "execution_count": 42,
   "metadata": {},
   "outputs": [
    {
     "name": "stdout",
     "output_type": "stream",
     "text": [
      "['user-interface-components', 'security', 'machine-learning', 'networking', 'user-interface', 'data-processing', 'media', 'control-flow', 'frameworks', 'applications', 'programming-languages', 'web-user-interface', 'content-management', 'learning-resources', 'hardware', 'text-processing', 'libraries', 'software-quality', 'data-storage', 'operations', 'games', 'application-programming-interfaces', 'build-tools', 'messaging', 'graphics', 'runtime-environments', 'community', 'computer-science', 'operating-systems', 'data-formats', 'artificial-intelligence', 'cloud-computing', 'blockchain', 'software-architecture', 'virtualization', 'software-development', 'companies', 'compilers', 'mapping', 'economics', 'mathematics', 'software-performance', 'package-managers', 'integrated-development-environments', 'science', 'text-editors', 'command-line-interface', 'configuration-management', 'web-browsers', 'collaboration', 'version-control', 'legal', 'code-quality', 'web-servers', 'social-media', 'lists-of-projects', 'marketing', 'advertising']\n"
     ]
    }
   ],
   "source": [
    "# top rank data\n",
    "import re\n",
    "import json\n",
    "import urllib\n",
    "import wget\n",
    "from urllib.request import urlopen\n",
    "from bs4 import BeautifulSoup\n",
    "html = open(\"/Users/yejin/Github-Tag-Embedder/Find Open Source By Searching, Browsing and Combining 175,512 Topics Across 59 Categories And 5,996,.html\")\n",
    "bsObj = BeautifulSoup(html)\n",
    "\n",
    "nameList = map(BeautifulSoup.get_text, bsObj.findAll(\"div\", {\"style\":\"padding-bottom:12px\"}))\n",
    "lower_list = []\n",
    "data = []\n",
    "my_json = {}\n",
    "\n",
    "for name in nameList:\n",
    "  tr = name.split()[:-2]\n",
    "  if len(tr)>=1:\n",
    "    data.append(' '.join(map(str, tr)))\n",
    "    lower_mine = '-'.join(map(str, tr)).lower()\n",
    "    lower_list.append(lower_mine)\n",
    "print(lower_list)\n",
    "\n",
    "for lower_mine in lower_list:\n",
    "  # 레포마다 파싱\n",
    "  url=\"https://awesomeopensource.com/categories/\" + lower_mine\n",
    "  headers = {\"User-Agent\": \"Chrome/66.0.3359.181\"}\n",
    "  req = urllib.request.Request(url, headers= headers)\n",
    "  html=urllib.request.urlopen(req) \n",
    "  bsObj = BeautifulSoup(html)\n",
    "  small_data = bsObj.findAll(\"div\", {\"style\":\"padding-bottom:12px\"})\n",
    "  in_directory_data = []\n",
    "\n",
    "  for small_name in small_data:\n",
    "    small_repo = small_name.get_text()\n",
    "    small_tr = small_repo.split()[:-2]\n",
    "    small_data_with_space = ' '.join(map(str, small_tr)).lower()\n",
    "    in_directory_data.append(small_data_with_space)\n",
    "  \n",
    "  my_json[f\"{lower_mine}\"] = in_directory_data\n",
    "\n",
    "\n",
    "  #   break\n",
    "\n",
    "# print(len(data))\n",
    "\n",
    "with open('test.json', 'w', encoding='utf-8') as make_file:\n",
    "    json.dump(my_json, make_file, indent=\"\\t\")\n"
   ]
  }
 ],
 "metadata": {
  "kernelspec": {
   "display_name": "Python 3.9.5 ('base')",
   "language": "python",
   "name": "python3"
  },
  "language_info": {
   "codemirror_mode": {
    "name": "ipython",
    "version": 3
   },
   "file_extension": ".py",
   "mimetype": "text/x-python",
   "name": "python",
   "nbconvert_exporter": "python",
   "pygments_lexer": "ipython3",
   "version": "3.9.5"
  },
  "orig_nbformat": 4,
  "vscode": {
   "interpreter": {
    "hash": "c40fc0dabaa44856a7ea2aaace631e92d758e85cb3e5626f690455fc0714b666"
   }
  }
 },
 "nbformat": 4,
 "nbformat_minor": 2
}
