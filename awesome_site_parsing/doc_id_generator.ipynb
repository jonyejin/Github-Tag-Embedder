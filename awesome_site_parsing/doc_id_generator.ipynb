{
 "cells": [
  {
   "cell_type": "code",
   "execution_count": 2,
   "metadata": {},
   "outputs": [
    {
     "ename": "FileNotFoundError",
     "evalue": "[Errno 2] No such file or directory: 'output_file_name.json.json'",
     "output_type": "error",
     "traceback": [
      "\u001b[0;31m---------------------------------------------------------------------------\u001b[0m",
      "\u001b[0;31mFileNotFoundError\u001b[0m                         Traceback (most recent call last)",
      "\u001b[1;32m/Users/yejin/Github-Tag-Embedder/awesome_site_parsing/doc_id_generator.ipynb 셀 1\u001b[0m in \u001b[0;36m<cell line: 29>\u001b[0;34m()\u001b[0m\n\u001b[1;32m     <a href='vscode-notebook-cell:/Users/yejin/Github-Tag-Embedder/awesome_site_parsing/doc_id_generator.ipynb#W0sZmlsZQ%3D%3D?line=25'>26</a>\u001b[0m   \u001b[39mwith\u001b[39;00m \u001b[39mopen\u001b[39m(\u001b[39mf\u001b[39m\u001b[39m\"\u001b[39m\u001b[39m{\u001b[39;00mdoc_id_matching_keys_file_name\u001b[39m}\u001b[39;00m\u001b[39m.json\u001b[39m\u001b[39m\"\u001b[39m, \u001b[39m\"\u001b[39m\u001b[39mw\u001b[39m\u001b[39m\"\u001b[39m) \u001b[39mas\u001b[39;00m outfile:\n\u001b[1;32m     <a href='vscode-notebook-cell:/Users/yejin/Github-Tag-Embedder/awesome_site_parsing/doc_id_generator.ipynb#W0sZmlsZQ%3D%3D?line=26'>27</a>\u001b[0m       json\u001b[39m.\u001b[39mdump(record_key, outfile)\n\u001b[0;32m---> <a href='vscode-notebook-cell:/Users/yejin/Github-Tag-Embedder/awesome_site_parsing/doc_id_generator.ipynb#W0sZmlsZQ%3D%3D?line=28'>29</a>\u001b[0m doc_id_generator(\u001b[39m'\u001b[39;49m\u001b[39moutput_file_name.json\u001b[39;49m\u001b[39m'\u001b[39;49m, \u001b[39m'\u001b[39;49m\u001b[39mdoc_output.json\u001b[39;49m\u001b[39m'\u001b[39;49m, \u001b[39m'\u001b[39;49m\u001b[39mdoc_id_matching.json\u001b[39;49m\u001b[39m'\u001b[39;49m)\n",
      "\u001b[1;32m/Users/yejin/Github-Tag-Embedder/awesome_site_parsing/doc_id_generator.ipynb 셀 1\u001b[0m in \u001b[0;36mdoc_id_generator\u001b[0;34m(input_file_name, output_file_name, doc_id_matching_keys_file_name)\u001b[0m\n\u001b[1;32m      <a href='vscode-notebook-cell:/Users/yejin/Github-Tag-Embedder/awesome_site_parsing/doc_id_generator.ipynb#W0sZmlsZQ%3D%3D?line=5'>6</a>\u001b[0m \u001b[39mdef\u001b[39;00m \u001b[39mdoc_id_generator\u001b[39m(input_file_name, output_file_name, doc_id_matching_keys_file_name):\n\u001b[1;32m      <a href='vscode-notebook-cell:/Users/yejin/Github-Tag-Embedder/awesome_site_parsing/doc_id_generator.ipynb#W0sZmlsZQ%3D%3D?line=6'>7</a>\u001b[0m   \u001b[39m\"\"\"\u001b[39;00m\n\u001b[1;32m      <a href='vscode-notebook-cell:/Users/yejin/Github-Tag-Embedder/awesome_site_parsing/doc_id_generator.ipynb#W0sZmlsZQ%3D%3D?line=7'>8</a>\u001b[0m \u001b[39m  output_file_name.json으로 된 파일을 만들어준다.\u001b[39;00m\n\u001b[1;32m      <a href='vscode-notebook-cell:/Users/yejin/Github-Tag-Embedder/awesome_site_parsing/doc_id_generator.ipynb#W0sZmlsZQ%3D%3D?line=8'>9</a>\u001b[0m \u001b[39m  내용: doc_id: body\u001b[39;00m\n\u001b[0;32m   (...)\u001b[0m\n\u001b[1;32m     <a href='vscode-notebook-cell:/Users/yejin/Github-Tag-Embedder/awesome_site_parsing/doc_id_generator.ipynb#W0sZmlsZQ%3D%3D?line=12'>13</a>\u001b[0m \u001b[39m      doc_id_matching_keys_file_name (string): json파일 이름\u001b[39;00m\n\u001b[1;32m     <a href='vscode-notebook-cell:/Users/yejin/Github-Tag-Embedder/awesome_site_parsing/doc_id_generator.ipynb#W0sZmlsZQ%3D%3D?line=13'>14</a>\u001b[0m \u001b[39m  \"\"\"\u001b[39;00m\n\u001b[0;32m---> <a href='vscode-notebook-cell:/Users/yejin/Github-Tag-Embedder/awesome_site_parsing/doc_id_generator.ipynb#W0sZmlsZQ%3D%3D?line=14'>15</a>\u001b[0m   f1 \u001b[39m=\u001b[39m \u001b[39mopen\u001b[39;49m(\u001b[39mf\u001b[39;49m\u001b[39m'\u001b[39;49m\u001b[39m{\u001b[39;49;00minput_file_name\u001b[39m}\u001b[39;49;00m\u001b[39m.json\u001b[39;49m\u001b[39m'\u001b[39;49m)\n\u001b[1;32m     <a href='vscode-notebook-cell:/Users/yejin/Github-Tag-Embedder/awesome_site_parsing/doc_id_generator.ipynb#W0sZmlsZQ%3D%3D?line=15'>16</a>\u001b[0m   md \u001b[39m=\u001b[39m \u001b[39mdict\u001b[39m(json\u001b[39m.\u001b[39mload(f1))\n\u001b[1;32m     <a href='vscode-notebook-cell:/Users/yejin/Github-Tag-Embedder/awesome_site_parsing/doc_id_generator.ipynb#W0sZmlsZQ%3D%3D?line=16'>17</a>\u001b[0m   wr \u001b[39m=\u001b[39m {}\n",
      "\u001b[0;31mFileNotFoundError\u001b[0m: [Errno 2] No such file or directory: 'output_file_name.json.json'"
     ]
    }
   ],
   "source": [
    "import json\n",
    "import markdown # pip install markdown\n",
    "from bs4 import BeautifulSoup # pip install beautifulsoup4\n",
    "import json\n",
    "\n",
    "def doc_id_generator(input_file_name, output_file_name, doc_id_matching_keys_file_name):\n",
    "  \"\"\"\n",
    "  output_file_name.json으로 된 파일을 만들어준다.\n",
    "  내용: doc_id: body\n",
    "  Args:\n",
    "      input_file_name (string):json파일 이름\n",
    "      output_file_name (string): json파일 이름\n",
    "      doc_id_matching_keys_file_name (string): json파일 이름\n",
    "  \"\"\"\n",
    "  f1 = open(f'{input_file_name}')\n",
    "  md = dict(json.load(f1))\n",
    "  wr = {}\n",
    "  record_key = {}\n",
    "\n",
    "  for index, (key, value) in enumerate(md.items()):\n",
    "      wr[f\"doc_{index}\"] = value\n",
    "      record_key[f\"doc_{index}\"] = key\n",
    "\n",
    "  with open(f\"{output_file_name}\", \"w\") as outfile:\n",
    "      json.dump(wr, outfile)\n",
    "  with open(f\"{doc_id_matching_keys_file_name}\", \"w\") as outfile:\n",
    "      json.dump(record_key, outfile)\n",
    "  \n",
    "doc_id_generator('output_file_name.json', 'doc_output.json', 'doc_id_matching.json')\n",
    "      "
   ]
  }
 ],
 "metadata": {
  "kernelspec": {
   "display_name": "Python 3.9.5 ('base')",
   "language": "python",
   "name": "python3"
  },
  "language_info": {
   "codemirror_mode": {
    "name": "ipython",
    "version": 3
   },
   "file_extension": ".py",
   "mimetype": "text/x-python",
   "name": "python",
   "nbconvert_exporter": "python",
   "pygments_lexer": "ipython3",
   "version": "3.9.5"
  },
  "orig_nbformat": 4,
  "vscode": {
   "interpreter": {
    "hash": "c40fc0dabaa44856a7ea2aaace631e92d758e85cb3e5626f690455fc0714b666"
   }
  }
 },
 "nbformat": 4,
 "nbformat_minor": 2
}
