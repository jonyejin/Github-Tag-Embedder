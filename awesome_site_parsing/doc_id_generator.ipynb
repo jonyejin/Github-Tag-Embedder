{
 "cells": [
  {
   "cell_type": "code",
   "execution_count": 3,
   "metadata": {},
   "outputs": [],
   "source": [
    "import json\n",
    "import markdown # pip install markdown\n",
    "from bs4 import BeautifulSoup # pip install beautifulsoup4\n",
    "import json\n",
    "\n",
    "def doc_id_generator(input_file_name, output_file_name, doc_id_matching_keys_file_name):\n",
    "  \"\"\"\n",
    "  output_file_name.json으로 된 파일을 만들어준다.\n",
    "  내용: doc_id: body\n",
    "  Args:\n",
    "      input_file_name (string):json파일 이름\n",
    "      output_file_name (string): json파일 이름\n",
    "      doc_id_matching_keys_file_name (string): json파일 이름\n",
    "  \"\"\"\n",
    "  f1 = open(f'{input_file_name}')\n",
    "  md = dict(json.load(f1))\n",
    "  wr = {}\n",
    "  record_key = {}\n",
    "\n",
    "  for index, (key, value) in enumerate(md.items()):\n",
    "      wr[f\"doc_{index}\"] = value\n",
    "      record_key[f\"doc_{index}\"] = key\n",
    "\n",
    "  with open(f\"{output_file_name}\", \"w\") as outfile:\n",
    "      json.dump(wr, outfile)\n",
    "  with open(f\"{doc_id_matching_keys_file_name}\", \"w\") as outfile:\n",
    "      json.dump(record_key, outfile)\n",
    "  \n",
    "doc_id_generator('output_file_name.json', 'doc_output.json', 'doc_id_matching.json')\n",
    "      "
   ]
  }
 ],
 "metadata": {
  "kernelspec": {
   "display_name": "Python 3.9.5 ('base')",
   "language": "python",
   "name": "python3"
  },
  "language_info": {
   "codemirror_mode": {
    "name": "ipython",
    "version": 3
   },
   "file_extension": ".py",
   "mimetype": "text/x-python",
   "name": "python",
   "nbconvert_exporter": "python",
   "pygments_lexer": "ipython3",
   "version": "3.9.5"
  },
  "orig_nbformat": 4,
  "vscode": {
   "interpreter": {
    "hash": "c40fc0dabaa44856a7ea2aaace631e92d758e85cb3e5626f690455fc0714b666"
   }
  }
 },
 "nbformat": 4,
 "nbformat_minor": 2
}
