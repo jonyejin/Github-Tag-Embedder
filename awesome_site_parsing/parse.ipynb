{
 "cells": [
  {
   "cell_type": "code",
   "execution_count": 4,
   "metadata": {},
   "outputs": [],
   "source": [
    "import json\n",
    "file_path = \"key_as_space.json\"\n",
    "\n",
    "# Opening JSON file\n",
    "f = open('test.json')  \n",
    "awesome_file = json.load(f)\n",
    "my_json = {}\n",
    "\n",
    "for key,values in awesome_file.items():\n",
    "  my_json[key.replace('-', ' ')] = values\n",
    "\n",
    "with open(file_path, 'w') as outfile:\n",
    "    json.dump(my_json, outfile)"
   ]
  }
 ],
 "metadata": {
  "kernelspec": {
   "display_name": "Python 3.9.5 ('base')",
   "language": "python",
   "name": "python3"
  },
  "language_info": {
   "codemirror_mode": {
    "name": "ipython",
    "version": 3
   },
   "file_extension": ".py",
   "mimetype": "text/x-python",
   "name": "python",
   "nbconvert_exporter": "python",
   "pygments_lexer": "ipython3",
   "version": "3.9.5"
  },
  "orig_nbformat": 4,
  "vscode": {
   "interpreter": {
    "hash": "c40fc0dabaa44856a7ea2aaace631e92d758e85cb3e5626f690455fc0714b666"
   }
  }
 },
 "nbformat": 4,
 "nbformat_minor": 2
}
