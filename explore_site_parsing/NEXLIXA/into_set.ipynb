{
 "cells": [
  {
   "cell_type": "code",
   "execution_count": 23,
   "metadata": {},
   "outputs": [
    {
     "name": "stdout",
     "output_type": "stream",
     "text": [
      "6363\n"
     ]
    }
   ],
   "source": [
    "import json\n",
    "a_json = open('output.json', encoding = 'utf-8')\n",
    "a_dict = json.load(a_json)\n",
    "\n",
    "setted = list(set(a_dict[\"key\"]))\n",
    "print(len(setted))\n",
    "\n",
    "# array to json\n",
    "return_val = dict({\"key\": setted})\n",
    "\n",
    "with open(\"output.json\", \"w\") as json_file:\n",
    "    json.dump(return_val, json_file)"
   ]
  },
  {
   "cell_type": "code",
   "execution_count": null,
   "metadata": {},
   "outputs": [],
   "source": []
  },
  {
   "cell_type": "code",
   "execution_count": null,
   "metadata": {},
   "outputs": [],
   "source": []
  }
 ],
 "metadata": {
  "kernelspec": {
   "display_name": "Python 3.10.7 64-bit",
   "language": "python",
   "name": "python3"
  },
  "language_info": {
   "codemirror_mode": {
    "name": "ipython",
    "version": 3
   },
   "file_extension": ".py",
   "mimetype": "text/x-python",
   "name": "python",
   "nbconvert_exporter": "python",
   "pygments_lexer": "ipython3",
   "version": "3.10.7"
  },
  "orig_nbformat": 4,
  "vscode": {
   "interpreter": {
    "hash": "b0fa6594d8f4cbf19f97940f81e996739fb7646882a419484c72d19e05852a7e"
   }
  }
 },
 "nbformat": 4,
 "nbformat_minor": 2
}
